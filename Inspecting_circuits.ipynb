{
  "nbformat": 4,
  "nbformat_minor": 0,
  "metadata": {
    "colab": {
      "provenance": [],
      "authorship_tag": "ABX9TyP01rooHtraBckLfCnmWGvR",
      "include_colab_link": true
    },
    "kernelspec": {
      "name": "python3",
      "display_name": "Python 3"
    },
    "language_info": {
      "name": "python"
    }
  },
  "cells": [
    {
      "cell_type": "markdown",
      "metadata": {
        "id": "view-in-github",
        "colab_type": "text"
      },
      "source": [
        "<a href=\"https://colab.research.google.com/github/phycem/Quantum-Machine-Learning-/blob/main/Inspecting_circuits.ipynb\" target=\"_parent\"><img src=\"https://colab.research.google.com/assets/colab-badge.svg\" alt=\"Open In Colab\"/></a>"
      ]
    },
    {
      "cell_type": "markdown",
      "source": [
        "https://docs.pennylane.ai/en/stable/introduction/inspecting_circuits.html"
      ],
      "metadata": {
        "id": "4V3vUgK750G0"
      }
    },
    {
      "cell_type": "code",
      "execution_count": 1,
      "metadata": {
        "colab": {
          "base_uri": "https://localhost:8080/"
        },
        "id": "vyVGOJJi5vqB",
        "outputId": "1e05aad4-02f4-4b36-cc75-352308ab6608"
      },
      "outputs": [
        {
          "output_type": "stream",
          "name": "stdout",
          "text": [
            "Looking in indexes: https://pypi.org/simple, https://us-python.pkg.dev/colab-wheels/public/simple/\n",
            "Collecting pennylane\n",
            "  Downloading PennyLane-0.30.0-py3-none-any.whl (1.4 MB)\n",
            "\u001b[2K     \u001b[90m━━━━━━━━━━━━━━━━━━━━━━━━━━━━━━━━━━━━━━━━\u001b[0m \u001b[32m1.4/1.4 MB\u001b[0m \u001b[31m18.3 MB/s\u001b[0m eta \u001b[36m0:00:00\u001b[0m\n",
            "\u001b[?25hCollecting autoray>=0.3.1\n",
            "  Downloading autoray-0.6.3-py3-none-any.whl (48 kB)\n",
            "\u001b[2K     \u001b[90m━━━━━━━━━━━━━━━━━━━━━━━━━━━━━━━━━━━━━━━━\u001b[0m \u001b[32m48.3/48.3 kB\u001b[0m \u001b[31m2.4 MB/s\u001b[0m eta \u001b[36m0:00:00\u001b[0m\n",
            "\u001b[?25hRequirement already satisfied: scipy in /usr/local/lib/python3.10/dist-packages (from pennylane) (1.10.1)\n",
            "Collecting rustworkx\n",
            "  Downloading rustworkx-0.12.1-cp310-cp310-manylinux_2_17_x86_64.manylinux2014_x86_64.whl (1.9 MB)\n",
            "\u001b[2K     \u001b[90m━━━━━━━━━━━━━━━━━━━━━━━━━━━━━━━━━━━━━━━━\u001b[0m \u001b[32m1.9/1.9 MB\u001b[0m \u001b[31m20.1 MB/s\u001b[0m eta \u001b[36m0:00:00\u001b[0m\n",
            "\u001b[?25hCollecting semantic-version>=2.7\n",
            "  Downloading semantic_version-2.10.0-py2.py3-none-any.whl (15 kB)\n",
            "Requirement already satisfied: autograd in /usr/local/lib/python3.10/dist-packages (from pennylane) (1.5)\n",
            "Requirement already satisfied: appdirs in /usr/local/lib/python3.10/dist-packages (from pennylane) (1.4.4)\n",
            "Requirement already satisfied: networkx in /usr/local/lib/python3.10/dist-packages (from pennylane) (3.1)\n",
            "Requirement already satisfied: cachetools in /usr/local/lib/python3.10/dist-packages (from pennylane) (5.3.0)\n",
            "Requirement already satisfied: toml in /usr/local/lib/python3.10/dist-packages (from pennylane) (0.10.2)\n",
            "Requirement already satisfied: requests in /usr/local/lib/python3.10/dist-packages (from pennylane) (2.27.1)\n",
            "Requirement already satisfied: numpy<1.24 in /usr/local/lib/python3.10/dist-packages (from pennylane) (1.22.4)\n",
            "Collecting pennylane-lightning>=0.30\n",
            "  Downloading PennyLane_Lightning-0.30.0-cp310-cp310-manylinux_2_17_x86_64.manylinux2014_x86_64.whl (16.6 MB)\n",
            "\u001b[2K     \u001b[90m━━━━━━━━━━━━━━━━━━━━━━━━━━━━━━━━━━━━━━━━\u001b[0m \u001b[32m16.6/16.6 MB\u001b[0m \u001b[31m19.7 MB/s\u001b[0m eta \u001b[36m0:00:00\u001b[0m\n",
            "\u001b[?25hRequirement already satisfied: future>=0.15.2 in /usr/local/lib/python3.10/dist-packages (from autograd->pennylane) (0.18.3)\n",
            "Requirement already satisfied: certifi>=2017.4.17 in /usr/local/lib/python3.10/dist-packages (from requests->pennylane) (2022.12.7)\n",
            "Requirement already satisfied: idna<4,>=2.5 in /usr/local/lib/python3.10/dist-packages (from requests->pennylane) (3.4)\n",
            "Requirement already satisfied: urllib3<1.27,>=1.21.1 in /usr/local/lib/python3.10/dist-packages (from requests->pennylane) (1.26.15)\n",
            "Requirement already satisfied: charset-normalizer~=2.0.0 in /usr/local/lib/python3.10/dist-packages (from requests->pennylane) (2.0.12)\n",
            "Installing collected packages: semantic-version, rustworkx, autoray, pennylane-lightning, pennylane\n",
            "Successfully installed autoray-0.6.3 pennylane-0.30.0 pennylane-lightning-0.30.0 rustworkx-0.12.1 semantic-version-2.10.0\n"
          ]
        }
      ],
      "source": [
        "!pip install pennylane"
      ]
    },
    {
      "cell_type": "code",
      "source": [
        "import pennylane as qml\n",
        "from pennylane import numpy as np"
      ],
      "metadata": {
        "id": "OijQZAt_6GSO"
      },
      "execution_count": 7,
      "outputs": []
    },
    {
      "cell_type": "code",
      "source": [
        "#Extracting properties of a circuit\n",
        "dev = qml.device('default.qubit', wires=4)\n",
        "\n",
        "@qml.qnode(dev, diff_method='parameter-shift')\n",
        "def circuit(x, y):\n",
        "    qml.RX(x[0], wires=0)\n",
        "    qml.Toffoli(wires=(0, 1, 2))\n",
        "    qml.CRY(x[1], wires=(0, 1))\n",
        "    qml.Rot(x[2], x[3], y, wires=0)\n",
        "    return qml.expval(qml.PauliZ(0)), qml.expval(qml.PauliX(1))"
      ],
      "metadata": {
        "id": "Fl0Vgn7P53PO"
      },
      "execution_count": 5,
      "outputs": []
    },
    {
      "cell_type": "code",
      "source": [
        "x = np.array([0.05, 0.1, 0.2, 0.3], requires_grad=True)\n",
        "y = np.array(0.4, requires_grad=False)\n",
        "specs_func = qml.specs(circuit)\n",
        "specs_func(x, y)"
      ],
      "metadata": {
        "colab": {
          "base_uri": "https://localhost:8080/"
        },
        "id": "0ZKl3yZ56niZ",
        "outputId": "02f71646-df4b-4ffd-acbd-92a64dade70e"
      },
      "execution_count": 8,
      "outputs": [
        {
          "output_type": "execute_result",
          "data": {
            "text/plain": [
              "{'resources': Resources(num_wires=3, num_gates=4, gate_types=defaultdict(<class 'int'>, {'RX': 1, 'Toffoli': 1, 'CRY': 1, 'Rot': 1}), depth=4, shots=0),\n",
              " 'gate_sizes': defaultdict(int, {1: 2, 3: 1, 2: 1}),\n",
              " 'gate_types': defaultdict(int, {'RX': 1, 'Toffoli': 1, 'CRY': 1, 'Rot': 1}),\n",
              " 'num_operations': 4,\n",
              " 'num_observables': 2,\n",
              " 'num_diagonalizing_gates': 1,\n",
              " 'num_used_wires': 3,\n",
              " 'num_trainable_params': 4,\n",
              " 'depth': 4,\n",
              " 'num_device_wires': 4,\n",
              " 'device_name': 'default.qubit',\n",
              " 'expansion_strategy': 'gradient',\n",
              " 'gradient_options': {},\n",
              " 'interface': 'auto',\n",
              " 'diff_method': 'parameter-shift',\n",
              " 'gradient_fn': 'pennylane.gradients.parameter_shift.param_shift',\n",
              " 'num_gradient_executions': 10}"
            ]
          },
          "metadata": {},
          "execution_count": 8
        }
      ]
    },
    {
      "cell_type": "code",
      "source": [
        "# Circuit drawing\n",
        "\n",
        "dev = qml.device('lightning.qubit', wires=(0,1,2,3))\n",
        "\n",
        "@qml.qnode(dev)\n",
        "def circuit(x, z):\n",
        "    qml.QFT(wires=(0,1,2,3))\n",
        "    qml.IsingXX(1.234, wires=(0,2))\n",
        "    qml.Toffoli(wires=(0,1,2))\n",
        "    qml.CSWAP(wires=(0,2,3))\n",
        "    qml.RX(x, wires=0)\n",
        "    qml.CRZ(z, wires=(3,0))\n",
        "    return qml.expval(qml.PauliZ(0))\n",
        "\n",
        "\n",
        "fig, ax = qml.draw_mpl(circuit)(1.2345,1.2345)\n",
        "fig.show()"
      ],
      "metadata": {
        "colab": {
          "base_uri": "https://localhost:8080/",
          "height": 536
        },
        "id": "MNg7F0Wl7IWX",
        "outputId": "c25d7c69-3be6-44d6-e1b4-7c44d858749f"
      },
      "execution_count": 9,
      "outputs": [
        {
          "output_type": "display_data",
          "data": {
            "text/plain": [
              "<Figure size 900x500 with 1 Axes>"
            ],
            "image/png": "[encoded data removed]"
          },
          "metadata": {}
        }
      ]
    },
    {
      "cell_type": "code",
      "source": [
        "print(qml.draw(circuit)(1.2345,1.2345))"
      ],
      "metadata": {
        "colab": {
          "base_uri": "https://localhost:8080/"
        },
        "id": "ATjvJx4v7SoI",
        "outputId": "f997fa18-367a-434c-bb16-c3f442e82ad5"
      },
      "execution_count": 10,
      "outputs": [
        {
          "output_type": "stream",
          "name": "stdout",
          "text": [
            "0: ─╭QFT─╭IsingXX(1.23)─╭●─╭●─────RX(1.23)─╭RZ(1.23)─┤  <Z>\n",
            "1: ─├QFT─│──────────────├●─│───────────────│─────────┤     \n",
            "2: ─├QFT─╰IsingXX(1.23)─╰X─├SWAP───────────│─────────┤     \n",
            "3: ─╰QFT───────────────────╰SWAP───────────╰●────────┤     \n"
          ]
        }
      ]
    },
    {
      "cell_type": "code",
      "source": [
        "#Debugging with mid-circuit snapshots\n",
        "\n",
        "dev = qml.device(\"default.qubit\", wires=2)\n",
        "\n",
        "@qml.qnode(dev, interface=None)\n",
        "def circuit():\n",
        "    qml.Snapshot()\n",
        "    qml.Hadamard(wires=0)\n",
        "    qml.Snapshot(\"very_important_state\")\n",
        "    qml.CNOT(wires=[0, 1])\n",
        "    qml.Snapshot()\n",
        "    return qml.expval(qml.PauliX(0))"
      ],
      "metadata": {
        "id": "1N8m61JS7c7D"
      },
      "execution_count": 11,
      "outputs": []
    },
    {
      "cell_type": "code",
      "source": [
        "qml.snapshots(circuit)()"
      ],
      "metadata": {
        "colab": {
          "base_uri": "https://localhost:8080/"
        },
        "id": "8AVvkxMC91Ge",
        "outputId": "0750ca48-e066-4ab2-d39e-2981841d89df"
      },
      "execution_count": 12,
      "outputs": [
        {
          "output_type": "execute_result",
          "data": {
            "text/plain": [
              "{0: array([1.+0.j, 0.+0.j, 0.+0.j, 0.+0.j]),\n",
              " 'very_important_state': array([0.70710678+0.j, 0.        +0.j, 0.70710678+0.j, 0.        +0.j]),\n",
              " 2: array([0.70710678+0.j, 0.        +0.j, 0.        +0.j, 0.70710678+0.j]),\n",
              " 'execution_results': array(0.)}"
            ]
          },
          "metadata": {},
          "execution_count": 12
        }
      ]
    },
    {
      "cell_type": "code",
      "source": [
        "#Graph representation\n",
        "\n",
        "import pennylane as qml\n",
        "from pennylane import CircuitGraph\n",
        "\n",
        "dev = qml.device('lightning.qubit', wires=(0,1,2,3))\n",
        "\n",
        "@qml.qnode(dev)\n",
        "def circuit():\n",
        "    qml.Hadamard(0)\n",
        "    qml.CNOT([1, 2])\n",
        "    qml.CNOT([2, 3])\n",
        "    qml.CNOT([3, 1])\n",
        "    return qml.expval(qml.PauliZ(0))\n",
        "\n",
        "\n",
        "circuit()\n",
        "tape = circuit.qtape\n",
        "ops = tape.operations\n",
        "obs = tape.observables\n",
        "g = CircuitGraph(ops, obs, tape.wires)"
      ],
      "metadata": {
        "id": "ONSYe8MV-CDt"
      },
      "execution_count": 13,
      "outputs": []
    },
    {
      "cell_type": "code",
      "source": [
        "type(g.graph)"
      ],
      "metadata": {
        "colab": {
          "base_uri": "https://localhost:8080/"
        },
        "id": "AFJcDRPF-84p",
        "outputId": "da3202d8-6092-49bd-bae7-0e2c7aaaab43"
      },
      "execution_count": 14,
      "outputs": [
        {
          "output_type": "execute_result",
          "data": {
            "text/plain": [
              "rustworkx.PyDiGraph"
            ]
          },
          "metadata": {},
          "execution_count": 14
        }
      ]
    },
    {
      "cell_type": "markdown",
      "source": [
        "There is no edge between the Hadamard and the first CNOT, but between consecutive CNOT gates:"
      ],
      "metadata": {
        "id": "l0F6UKT__XZU"
      }
    },
    {
      "cell_type": "code",
      "source": [
        "g.has_path(ops[0], ops[1])"
      ],
      "metadata": {
        "colab": {
          "base_uri": "https://localhost:8080/"
        },
        "id": "wTbkAXX-_GZb",
        "outputId": "0aecbb92-1630-46b6-d701-ac2f1d5b6271"
      },
      "execution_count": 17,
      "outputs": [
        {
          "output_type": "execute_result",
          "data": {
            "text/plain": [
              "False"
            ]
          },
          "metadata": {},
          "execution_count": 17
        }
      ]
    },
    {
      "cell_type": "code",
      "source": [
        "\n",
        "g.has_path(ops[1], ops[3])"
      ],
      "metadata": {
        "colab": {
          "base_uri": "https://localhost:8080/"
        },
        "id": "iYGEukV-_C94",
        "outputId": "2e870c6a-df10-4c8f-ea50-b6cfbdf94c70"
      },
      "execution_count": 16,
      "outputs": [
        {
          "output_type": "execute_result",
          "data": {
            "text/plain": [
              "True"
            ]
          },
          "metadata": {},
          "execution_count": 16
        }
      ]
    },
    {
      "cell_type": "markdown",
      "source": [
        "The Hadamard is connected to the observable, while the CNOT operators are not. The observable does not follow the Hadamard."
      ],
      "metadata": {
        "id": "JD0Tj9cM_bJt"
      }
    },
    {
      "cell_type": "code",
      "source": [
        "g.has_path(ops[0], obs[0])"
      ],
      "metadata": {
        "colab": {
          "base_uri": "https://localhost:8080/"
        },
        "id": "8Ep3_5pE_gA9",
        "outputId": "f645404c-5121-4223-fa8d-69e193f62150"
      },
      "execution_count": 18,
      "outputs": [
        {
          "output_type": "execute_result",
          "data": {
            "text/plain": [
              "True"
            ]
          },
          "metadata": {},
          "execution_count": 18
        }
      ]
    },
    {
      "cell_type": "code",
      "source": [
        "g.has_path(ops[1], obs[0])"
      ],
      "metadata": {
        "colab": {
          "base_uri": "https://localhost:8080/"
        },
        "id": "RhGhyvCy_hDH",
        "outputId": "21fe9cba-89ba-4edd-8040-075bfbfa1c1e"
      },
      "execution_count": 19,
      "outputs": [
        {
          "output_type": "execute_result",
          "data": {
            "text/plain": [
              "False"
            ]
          },
          "metadata": {},
          "execution_count": 19
        }
      ]
    },
    {
      "cell_type": "code",
      "source": [
        "g.has_path(obs[0], ops[0])"
      ],
      "metadata": {
        "colab": {
          "base_uri": "https://localhost:8080/"
        },
        "id": "pfN6IOBQ_dbC",
        "outputId": "3d1274b3-d88c-4238-87eb-f370516b7db7"
      },
      "execution_count": 20,
      "outputs": [
        {
          "output_type": "execute_result",
          "data": {
            "text/plain": [
              "False"
            ]
          },
          "metadata": {},
          "execution_count": 20
        }
      ]
    },
    {
      "cell_type": "markdown",
      "source": [
        "Another way to construct the “causal” DAG of a circuit is to use the tape_to_graph() function used by the qcut module. This function takes a quantum tape and creates a MultiDiGraph instance from the networkx python package.\n",
        "\n",
        "Using the above example, we get:"
      ],
      "metadata": {
        "id": "wBtZAhyO_6XM"
      }
    },
    {
      "cell_type": "code",
      "source": [
        "g2 = qml.transforms.qcut.tape_to_graph(tape)\n",
        "type(g2)\n",
        "for k, v in g2.adjacency():\n",
        "   print(k, v)"
      ],
      "metadata": {
        "colab": {
          "base_uri": "https://localhost:8080/"
        },
        "id": "Q5VX8uiR_0A6",
        "outputId": "825b32f7-28d4-4a01-9c37-f544c4d80f27"
      },
      "execution_count": 21,
      "outputs": [
        {
          "output_type": "stream",
          "name": "stdout",
          "text": [
            "Hadamard(wires=[0]) {expval(PauliZ(wires=[0])): {0: {'wire': 0}}}\n",
            "CNOT(wires=[1, 2]) {CNOT(wires=[2, 3]): {0: {'wire': 2}}, CNOT(wires=[3, 1]): {0: {'wire': 1}}}\n",
            "CNOT(wires=[2, 3]) {CNOT(wires=[3, 1]): {0: {'wire': 3}}}\n",
            "CNOT(wires=[3, 1]) {}\n",
            "expval(PauliZ(wires=[0])) {}\n"
          ]
        }
      ]
    },
    {
      "cell_type": "markdown",
      "source": [
        "DAG of non-commuting ops"
      ],
      "metadata": {
        "id": "rv6X0NgrAcpQ"
      }
    },
    {
      "cell_type": "code",
      "source": [
        "def circuit(x, y, z):\n",
        "    qml.RX(x, wires=0)\n",
        "    qml.RX(y, wires=0)\n",
        "    qml.CNOT(wires=[1, 2])\n",
        "    qml.RY(y, wires=1)\n",
        "    qml.Hadamard(wires=2)\n",
        "    qml.CRZ(z, wires=[2, 0])\n",
        "    qml.RY(-y, wires=1)\n",
        "    return qml.expval(qml.PauliZ(0))\n",
        "dag_fn = qml.commutation_dag(circuit)\n",
        "dag = dag_fn(np.pi / 4, np.pi / 3, np.pi / 2)"
      ],
      "metadata": {
        "id": "vr1ZaRVNAbQa"
      },
      "execution_count": 22,
      "outputs": []
    },
    {
      "cell_type": "markdown",
      "source": [
        "Nodes in the commutation DAG can be accessed via the get_nodes() method, returning a list of the form (ID, CommutationDAGNode):"
      ],
      "metadata": {
        "id": "lS2_6K8vAoHu"
      }
    },
    {
      "cell_type": "code",
      "source": [
        "nodes = dag.get_nodes()\n",
        "nodes"
      ],
      "metadata": {
        "colab": {
          "base_uri": "https://localhost:8080/"
        },
        "id": "HuiG-9hQAh9-",
        "outputId": "5878dabe-5430-4786-e54a-b42a5479e174"
      },
      "execution_count": 23,
      "outputs": [
        {
          "output_type": "execute_result",
          "data": {
            "text/plain": [
              "NodeDataView({0: <pennylane.transforms.commutation_dag.CommutationDAGNode object at 0x7f9297287ee0>, 1: <pennylane.transforms.commutation_dag.CommutationDAGNode object at 0x7f9297287e20>, 2: <pennylane.transforms.commutation_dag.CommutationDAGNode object at 0x7f9297287ac0>, 3: <pennylane.transforms.commutation_dag.CommutationDAGNode object at 0x7f9297287f40>, 4: <pennylane.transforms.commutation_dag.CommutationDAGNode object at 0x7f9297272740>, 5: <pennylane.transforms.commutation_dag.CommutationDAGNode object at 0x7f92d71dcfa0>, 6: <pennylane.transforms.commutation_dag.CommutationDAGNode object at 0x7f92972724a0>}, data='node')"
            ]
          },
          "metadata": {},
          "execution_count": 23
        }
      ]
    },
    {
      "cell_type": "markdown",
      "source": [
        "Specific nodes in the commutation DAG can be accessed via the get_node() method:"
      ],
      "metadata": {
        "id": "4wm1U_9G7cu2"
      }
    },
    {
      "cell_type": "code",
      "source": [
        "second_node = dag.get_node(2)\n",
        "print(second_node)\n",
        "print(second_node.op)\n",
        "print(second_node.successors)\n",
        "print(second_node.predecessors)"
      ],
      "metadata": {
        "colab": {
          "base_uri": "https://localhost:8080/"
        },
        "id": "cts65JrbA18X",
        "outputId": "97b973df-6f41-44a1-bdcb-8bfe18ecd292"
      },
      "execution_count": 25,
      "outputs": [
        {
          "output_type": "stream",
          "name": "stdout",
          "text": [
            "<pennylane.transforms.commutation_dag.CommutationDAGNode object at 0x7f9297287ac0>\n",
            "CNOT(wires=[1, 2])\n",
            "[3, 4, 5, 6]\n",
            "[]\n"
          ]
        }
      ]
    }
  ]
}